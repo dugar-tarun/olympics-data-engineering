{
 "cells": [
  {
   "cell_type": "code",
   "execution_count": null,
   "metadata": {
    "application/vnd.databricks.v1+cell": {
     "cellMetadata": {
      "byteLimit": 2048000,
      "rowLimit": 10000
     },
     "inputWidgets": {},
     "nuid": "3d3615fc-474b-46af-a20b-48c32286efc7",
     "showTitle": false,
     "title": ""
    }
   },
   "outputs": [],
   "source": [
    "from pyspark.sql.functions import col\n",
    "from pyspark.sql.types import IntegerType, DoubleType, BooleanType, DateType"
   ]
  },
  {
   "cell_type": "code",
   "execution_count": null,
   "metadata": {
    "application/vnd.databricks.v1+cell": {
     "cellMetadata": {
      "byteLimit": 2048000,
      "rowLimit": 10000
     },
     "inputWidgets": {},
     "nuid": "d80be1c0-3ca4-463b-ac62-25fc8597ca30",
     "showTitle": false,
     "title": ""
    }
   },
   "outputs": [
    {
     "name": "stdout",
     "output_type": "stream",
     "text": [
      "Out[2]: True"
     ]
    }
   ],
   "source": [
    "# Create configs to mount azure data lake\n",
    "configs = {\n",
    "    \"fs.azure.account.auth.type\": \"OAuth\",\n",
    "    \"fs.azure.account.oauth.provider.type\": \"org.apache.hadoop.fs.azurebfs.oauth2.ClientCredsTokenProvider\",\n",
    "    \"fs.azure.account.oauth2.client.id\": \"<client-id>\",\n",
    "    \"fs.azure.account.oauth2.client.secret\": \"<client-secret>\",\n",
    "    \"fs.azure.account.oauth2.client.endpoint\": \"https://login.microsoftonline.com/<tenant-id>/oauth2/token\"\n",
    "}\n",
    "\n",
    "# Mount azure data lake to databricks\n",
    "dbutils.fs.mount(\n",
    "    source = \"abfss://olympic-data-container@olympicdesa01.dfs.core.windows.net\", # contrainer@storageacc\n",
    "    mount_point = \"/mnt/olympicdata\",\n",
    "    extra_configs = configs\n",
    ")"
   ]
  },
  {
   "cell_type": "code",
   "execution_count": null,
   "metadata": {
    "application/vnd.databricks.v1+cell": {
     "cellMetadata": {
      "byteLimit": 2048000,
      "rowLimit": 10000
     },
     "inputWidgets": {},
     "nuid": "80ae50ac-cfc4-4a0d-8d56-a582eff135c7",
     "showTitle": false,
     "title": ""
    }
   },
   "outputs": [
    {
     "data": {
      "text/html": [
       "<style scoped>\n",
       "  .table-result-container {\n",
       "    max-height: 300px;\n",
       "    overflow: auto;\n",
       "  }\n",
       "  table, th, td {\n",
       "    border: 1px solid black;\n",
       "    border-collapse: collapse;\n",
       "  }\n",
       "  th, td {\n",
       "    padding: 5px;\n",
       "  }\n",
       "  th {\n",
       "    text-align: left;\n",
       "  }\n",
       "</style><div class='table-result-container'><table class='table-result'><thead style='background-color: white'><tr><th>path</th><th>name</th><th>size</th><th>modificationTime</th></tr></thead><tbody><tr><td>dbfs:/mnt/olympicdata/processed/</td><td>processed/</td><td>0</td><td>1713772171000</td></tr><tr><td>dbfs:/mnt/olympicdata/raw/</td><td>raw/</td><td>0</td><td>1713768621000</td></tr></tbody></table></div>"
      ]
     },
     "metadata": {
      "application/vnd.databricks.v1+output": {
       "addedWidgets": {},
       "aggData": [],
       "aggError": "",
       "aggOverflow": false,
       "aggSchema": [],
       "aggSeriesLimitReached": false,
       "aggType": "",
       "arguments": {},
       "columnCustomDisplayInfos": {},
       "data": [
        [
         "dbfs:/mnt/olympicdata/processed/",
         "processed/",
         0,
         1713772171000
        ],
        [
         "dbfs:/mnt/olympicdata/raw/",
         "raw/",
         0,
         1713768621000
        ]
       ],
       "datasetInfos": [],
       "dbfsResultPath": null,
       "isJsonSchema": true,
       "metadata": {
        "isDbfsCommandResult": false
       },
       "overflow": false,
       "plotOptions": {
        "customPlotOptions": {},
        "displayType": "table",
        "pivotAggregation": null,
        "pivotColumns": null,
        "xColumns": null,
        "yColumns": null
       },
       "removedWidgets": [],
       "schema": [
        {
         "metadata": "{}",
         "name": "path",
         "type": "\"string\""
        },
        {
         "metadata": "{}",
         "name": "name",
         "type": "\"string\""
        },
        {
         "metadata": "{}",
         "name": "size",
         "type": "\"long\""
        },
        {
         "metadata": "{}",
         "name": "modificationTime",
         "type": "\"long\""
        }
       ],
       "type": "table"
      }
     },
     "output_type": "display_data"
    }
   ],
   "source": [
    "%fs\n",
    "\n",
    "ls \"/mnt/olympicdata\""
   ]
  },
  {
   "cell_type": "code",
   "execution_count": null,
   "metadata": {
    "application/vnd.databricks.v1+cell": {
     "cellMetadata": {
      "byteLimit": 2048000,
      "rowLimit": 10000
     },
     "inputWidgets": {},
     "nuid": "2b87d5f2-48f5-4d87-8c43-4a7f9cbd45e1",
     "showTitle": false,
     "title": ""
    }
   },
   "outputs": [],
   "source": [
    "athletes = spark.read.format(\"csv\").option(\"header\", \"true\").load(\"/mnt/olympicdata/raw/athletes.csv\")\n",
    "coaches = spark.read.format(\"csv\").option(\"header\",\"true\").option(\"inferSchema\",\"true\").load(\"/mnt/olympicdata/raw/coaches.csv\")\n",
    "entriesgender = spark.read.format(\"csv\").option(\"header\",\"true\").option(\"inferSchema\",\"true\").load(\"/mnt/olympicdata/raw/gender_entries.csv\")\n",
    "medals = spark.read.format(\"csv\").option(\"header\",\"true\").option(\"inferSchema\",\"true\").load(\"/mnt/olympicdata/raw/medals.csv\")\n",
    "teams = spark.read.format(\"csv\").option(\"header\",\"true\").option(\"inferSchema\",\"true\").load(\"/mnt/olympicdata/raw/teams.csv\")"
   ]
  },
  {
   "cell_type": "code",
   "execution_count": null,
   "metadata": {
    "application/vnd.databricks.v1+cell": {
     "cellMetadata": {
      "byteLimit": 2048000,
      "rowLimit": 10000
     },
     "inputWidgets": {},
     "nuid": "92c719f0-e732-4121-af86-271d3c121d75",
     "showTitle": false,
     "title": ""
    }
   },
   "outputs": [],
   "source": [
    "entriesgender = entriesgender.withColumn(\"Female\",col(\"Female\").cast(IntegerType()))\\\n",
    "    .withColumn(\"Male\",col(\"Male\").cast(IntegerType()))\\\n",
    "    .withColumn(\"Total\",col(\"Total\").cast(IntegerType()))"
   ]
  },
  {
   "cell_type": "code",
   "execution_count": null,
   "metadata": {
    "application/vnd.databricks.v1+cell": {
     "cellMetadata": {
      "byteLimit": 2048000,
      "rowLimit": 10000
     },
     "inputWidgets": {},
     "nuid": "f60924f7-7d7c-460b-ad84-247d094134fe",
     "showTitle": false,
     "title": ""
    }
   },
   "outputs": [
    {
     "name": "stdout",
     "output_type": "stream",
     "text": [
      "Out[15]: pyspark.sql.dataframe.DataFrame"
     ]
    }
   ],
   "source": [
    "type(entriesgender)"
   ]
  },
  {
   "cell_type": "code",
   "execution_count": null,
   "metadata": {
    "application/vnd.databricks.v1+cell": {
     "cellMetadata": {
      "byteLimit": 2048000,
      "rowLimit": 10000
     },
     "inputWidgets": {},
     "nuid": "79f87204-5446-4d4f-b21c-66cbac971a7f",
     "showTitle": false,
     "title": ""
    }
   },
   "outputs": [
    {
     "name": "stdout",
     "output_type": "stream",
     "text": [
      "+--------------------+------+----+-----+\n",
      "|          Discipline|Female|Male|Total|\n",
      "+--------------------+------+----+-----+\n",
      "|      3x3 Basketball|    32|  32|   64|\n",
      "|             Archery|    64|  64|  128|\n",
      "| Artistic Gymnastics|    98|  98|  196|\n",
      "|   Artistic Swimming|   105|   0|  105|\n",
      "|           Athletics|   969|1072| 2041|\n",
      "|           Badminton|    86|  87|  173|\n",
      "|   Baseball/Softball|    90| 144|  234|\n",
      "|          Basketball|   144| 144|  288|\n",
      "|    Beach Volleyball|    48|  48|   96|\n",
      "|              Boxing|   102| 187|  289|\n",
      "|        Canoe Slalom|    41|  41|   82|\n",
      "|        Canoe Sprint|   123| 126|  249|\n",
      "|Cycling BMX Frees...|    10|   9|   19|\n",
      "|  Cycling BMX Racing|    24|  24|   48|\n",
      "|Cycling Mountain ...|    38|  38|   76|\n",
      "|        Cycling Road|    70| 131|  201|\n",
      "|       Cycling Track|    90|  99|  189|\n",
      "|              Diving|    72|  71|  143|\n",
      "|          Equestrian|    73| 125|  198|\n",
      "|             Fencing|   107| 108|  215|\n",
      "+--------------------+------+----+-----+\n",
      "only showing top 20 rows\n",
      "\n"
     ]
    }
   ],
   "source": [
    "entriesgender.show()"
   ]
  },
  {
   "cell_type": "code",
   "execution_count": null,
   "metadata": {
    "application/vnd.databricks.v1+cell": {
     "cellMetadata": {
      "byteLimit": 2048000,
      "rowLimit": 10000
     },
     "inputWidgets": {},
     "nuid": "e3102f47-89e4-4e51-b864-e34886a7869a",
     "showTitle": false,
     "title": ""
    }
   },
   "outputs": [
    {
     "name": "stdout",
     "output_type": "stream",
     "text": [
      "+--------------------+----+\n",
      "|        Team_Country|Gold|\n",
      "+--------------------+----+\n",
      "|United States of ...|  39|\n",
      "|People's Republic...|  38|\n",
      "|               Japan|  27|\n",
      "|       Great Britain|  22|\n",
      "|                 ROC|  20|\n",
      "+--------------------+----+\n",
      "only showing top 5 rows\n",
      "\n"
     ]
    }
   ],
   "source": [
    "top_gold_medal_countries = medals.orderBy(\"Gold\", ascending=False).select(\"Team_Country\",\"Gold\").show(5)"
   ]
  },
  {
   "cell_type": "code",
   "execution_count": null,
   "metadata": {
    "application/vnd.databricks.v1+cell": {
     "cellMetadata": {
      "byteLimit": 2048000,
      "rowLimit": 10000
     },
     "inputWidgets": {},
     "nuid": "f39cfb30-9a8c-47e2-98a4-5ebe60dd8754",
     "showTitle": false,
     "title": ""
    }
   },
   "outputs": [
    {
     "name": "stdout",
     "output_type": "stream",
     "text": [
      "+--------------------+------+----+-----+-------------------+-------------------+\n",
      "|          Discipline|Female|Male|Total|         Avg_Female|           Avg_Male|\n",
      "+--------------------+------+----+-----+-------------------+-------------------+\n",
      "|      3x3 Basketball|    32|  32|   64|                0.5|                0.5|\n",
      "|             Archery|    64|  64|  128|                0.5|                0.5|\n",
      "| Artistic Gymnastics|    98|  98|  196|                0.5|                0.5|\n",
      "|   Artistic Swimming|   105|   0|  105|                1.0|                0.0|\n",
      "|           Athletics|   969|1072| 2041| 0.4747672709456149| 0.5252327290543851|\n",
      "|           Badminton|    86|  87|  173|0.49710982658959535| 0.5028901734104047|\n",
      "|   Baseball/Softball|    90| 144|  234|0.38461538461538464| 0.6153846153846154|\n",
      "|          Basketball|   144| 144|  288|                0.5|                0.5|\n",
      "|    Beach Volleyball|    48|  48|   96|                0.5|                0.5|\n",
      "|              Boxing|   102| 187|  289|0.35294117647058826| 0.6470588235294118|\n",
      "|        Canoe Slalom|    41|  41|   82|                0.5|                0.5|\n",
      "|        Canoe Sprint|   123| 126|  249| 0.4939759036144578| 0.5060240963855421|\n",
      "|Cycling BMX Frees...|    10|   9|   19| 0.5263157894736842|0.47368421052631576|\n",
      "|  Cycling BMX Racing|    24|  24|   48|                0.5|                0.5|\n",
      "|Cycling Mountain ...|    38|  38|   76|                0.5|                0.5|\n",
      "|        Cycling Road|    70| 131|  201| 0.3482587064676617| 0.6517412935323383|\n",
      "|       Cycling Track|    90|  99|  189|0.47619047619047616| 0.5238095238095238|\n",
      "|              Diving|    72|  71|  143| 0.5034965034965035| 0.4965034965034965|\n",
      "|          Equestrian|    73| 125|  198| 0.3686868686868687| 0.6313131313131313|\n",
      "|             Fencing|   107| 108|  215|0.49767441860465117| 0.5023255813953489|\n",
      "+--------------------+------+----+-----+-------------------+-------------------+\n",
      "only showing top 20 rows\n",
      "\n"
     ]
    }
   ],
   "source": [
    "average_entries_by_gender = entriesgender.withColumn(\n",
    "    'Avg_Female', entriesgender['Female'] / entriesgender['Total']\n",
    ").withColumn(\n",
    "    'Avg_Male', entriesgender['Male'] / entriesgender['Total']\n",
    ")\n",
    "average_entries_by_gender.show()"
   ]
  },
  {
   "cell_type": "code",
   "execution_count": null,
   "metadata": {
    "application/vnd.databricks.v1+cell": {
     "cellMetadata": {
      "byteLimit": 2048000,
      "rowLimit": 10000
     },
     "inputWidgets": {},
     "nuid": "9224c283-93bc-4598-baf4-147a5920fb75",
     "showTitle": false,
     "title": ""
    }
   },
   "outputs": [],
   "source": [
    "athletes.repartition(1).write.mode(\"overwrite\").option(\"header\",'true').csv(\"/mnt/olympicdata/processed/athletes\")\n",
    "coaches.repartition(1).write.mode(\"overwrite\").option(\"header\",\"true\").csv(\"/mnt/olympicdata/processed/coaches\")\n",
    "entriesgender.repartition(1).write.mode(\"overwrite\").option(\"header\",\"true\").csv(\"/mnt/olympicdata/processed/entriesgender\")\n",
    "medals.repartition(1).write.mode(\"overwrite\").option(\"header\",\"true\").csv(\"/mnt/olympicdata/processed/medals\")\n",
    "teams.repartition(1).write.mode(\"overwrite\").option(\"header\",\"true\").csv(\"/mnt/olympicdata/processed/teams\")"
   ]
  }
 ],
 "metadata": {
  "application/vnd.databricks.v1+notebook": {
   "dashboards": [],
   "language": "python",
   "notebookMetadata": {
    "mostRecentlyExecutedCommandWithImplicitDF": {
     "commandId": 3041088165358681,
     "dataframes": [
      "_sqldf"
     ]
    },
    "pythonIndentUnit": 4
   },
   "notebookName": "Tranform data from raw to processed",
   "widgets": {}
  },
  "language_info": {
   "name": "python"
  }
 },
 "nbformat": 4,
 "nbformat_minor": 0
}
